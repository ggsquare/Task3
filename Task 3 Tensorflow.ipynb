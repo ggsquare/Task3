{
 "cells": [
  {
   "cell_type": "code",
   "execution_count": 135,
   "metadata": {},
   "outputs": [],
   "source": [
    "from tables import *\n",
    "import pandas as pd\n",
    "import numpy as np\n",
    "import tensorflow as tf"
   ]
  },
  {
   "cell_type": "code",
   "execution_count": 136,
   "metadata": {},
   "outputs": [],
   "source": [
    "train = pd.read_hdf(\"train.h5\", \"train\")\n",
    "test = pd.read_hdf(\"test.h5\", \"test\")"
   ]
  },
  {
   "cell_type": "code",
   "execution_count": 137,
   "metadata": {},
   "outputs": [
    {
     "data": {
      "text/plain": [
       "(45324, 100)"
      ]
     },
     "execution_count": 137,
     "metadata": {},
     "output_type": "execute_result"
    }
   ],
   "source": [
    "y_train = train['y']\n",
    "x_train = train._drop_axis(['y'], axis=1)\n",
    "\n",
    "#Switch to numpy\n",
    "x_train = np.array(x_train)\n",
    "y_train = np.array(y_train)\n",
    "x_test = np.array(test)\n",
    "\n",
    "x_train.shape"
   ]
  },
  {
   "cell_type": "markdown",
   "metadata": {},
   "source": [
    "#### Convert to 1-Hot"
   ]
  },
  {
   "cell_type": "code",
   "execution_count": 138,
   "metadata": {},
   "outputs": [
    {
     "data": {
      "text/plain": [
       "array([[0., 1., 0., 0., 0.],\n",
       "       [0., 1., 0., 0., 0.],\n",
       "       [0., 1., 0., 0., 0.],\n",
       "       [0., 0., 0., 1., 0.],\n",
       "       [0., 1., 0., 0., 0.]])"
      ]
     },
     "execution_count": 138,
     "metadata": {},
     "output_type": "execute_result"
    }
   ],
   "source": [
    "#5 classes: 0,1,2,3,4\n",
    "y_train_hot = np.zeros((y_train.shape[0], 5))\n",
    "y_train_hot[np.arange(y_train.shape[0]), y_train] = 1\n",
    "\n",
    "#see 1-hot\n",
    "y_train_hot[0:5]"
   ]
  },
  {
   "cell_type": "markdown",
   "metadata": {},
   "source": [
    "#### Parameters"
   ]
  },
  {
   "cell_type": "code",
   "execution_count": 169,
   "metadata": {},
   "outputs": [],
   "source": [
    "learning_rate = 0.001\n",
    "epochs = 2000\n",
    "batch_size = 16\n",
    "disp_step = 100\n",
    "logs_path = './tmp/tensorflow_logs' #for tensorboard\n",
    "\n",
    "num_input = 100\n",
    "n_hidden_1 = 70\n",
    "n_hidden_2 = 40\n",
    "n_hidden_3 = 60\n",
    "n_hidden_4 = 25\n",
    "num_classes = 5"
   ]
  },
  {
   "cell_type": "markdown",
   "metadata": {},
   "source": [
    "#### Placeholders, fed by training data"
   ]
  },
  {
   "cell_type": "code",
   "execution_count": 170,
   "metadata": {},
   "outputs": [],
   "source": [
    "with tf.name_scope('DATA'):\n",
    "    X = tf.placeholder(tf.float32, [None, num_input], name='X')\n",
    "    y = tf.placeholder(tf.float32, [None, num_classes], name='y')"
   ]
  },
  {
   "cell_type": "markdown",
   "metadata": {},
   "source": [
    "#### TF Variables, to be trained"
   ]
  },
  {
   "cell_type": "code",
   "execution_count": 171,
   "metadata": {},
   "outputs": [],
   "source": [
    "with tf.name_scope('VARIABLES'):\n",
    "    weights = {\n",
    "        'h1': tf.Variable(tf.random_normal([num_input, n_hidden_1])),\n",
    "        'h2': tf.Variable(tf.random_normal([n_hidden_1, n_hidden_2])),\n",
    "        'h3': tf.Variable(tf.random_normal([n_hidden_2, n_hidden_3])),\n",
    "        'h4': tf.Variable(tf.random_normal([n_hidden_3, n_hidden_4])),\n",
    "        'out': tf.Variable(tf.random_normal([n_hidden_4, num_classes]))\n",
    "    }\n",
    "    \n",
    "    biases = {\n",
    "        'b1': tf.Variable(tf.random_normal([n_hidden_1])),\n",
    "        'b2': tf.Variable(tf.random_normal([n_hidden_2])),\n",
    "        'b3': tf.Variable(tf.random_normal([n_hidden_3])),\n",
    "        'b4': tf.Variable(tf.random_normal([n_hidden_4])),\n",
    "        'out': tf.Variable(tf.random_normal([num_classes]))\n",
    "    }"
   ]
  },
  {
   "cell_type": "code",
   "execution_count": 172,
   "metadata": {},
   "outputs": [],
   "source": [
    "def neural_net(x):    \n",
    "    \n",
    "    #with tf.name_scope('RELU'):\n",
    "     #   layer_1 = tf.nn.relu_layer(X, weights['h1'], biases['b1'], name='relu1')\n",
    "      #  layer_2 = tf.nn.relu_layer(layer_1, weights['h2'], biases['b2'], name='relu2')\n",
    "       # out_layer = tf.nn.softmax(tf.matmul(layer_2, weights['out']) + biases['out'])\n",
    "        \n",
    "    #Just multilayer perceptron    \n",
    "    layer_1 = tf.add(tf.matmul(X, weights['h1']), biases['b1'])\n",
    "    layer_1 = tf.nn.relu(layer_1)\n",
    "    layer_2 = tf.add(tf.matmul(layer_1, weights['h2']), biases['b2'])\n",
    "    layer_2 = tf.nn.relu(layer_2)\n",
    "    layer_3 = tf.add(tf.matmul(layer_2, weights['h3']), biases['b3'])\n",
    "    layer_3 = tf.nn.relu(layer_3)\n",
    "    layer_4 = tf.add(tf.matmul(layer_3, weights['h4']), biases['b4'])\n",
    "    layer_4 = tf.nn.relu(layer_4)\n",
    "    \n",
    "    #out_layer = tf.nn.softmax(tf.matmul(layer_3, weights['out']) + biases['out'])\n",
    "    out_layer = tf.matmul(layer_4, weights['out']) + biases['out'] \n",
    "    \n",
    "    \n",
    "    return out_layer"
   ]
  },
  {
   "cell_type": "markdown",
   "metadata": {},
   "source": [
    "#### Define Loss and Optimizer"
   ]
  },
  {
   "cell_type": "code",
   "execution_count": 173,
   "metadata": {},
   "outputs": [],
   "source": [
    "logits = neural_net(X)\n",
    "\n",
    "with tf.name_scope('LOSS'):\n",
    "    loss = tf.reduce_mean(tf.nn.softmax_cross_entropy_with_logits(\n",
    "        logits=logits, labels=y))\n",
    "    tf.summary.scalar('loss', loss)\n",
    "                          \n",
    "with tf.name_scope('OPTIMIZER'):\n",
    "    optimizer = tf.train.AdamOptimizer(learning_rate).minimize(loss)\n",
    "                          \n",
    "#Evaluation\n",
    "correct_pred = tf.equal(tf.argmax(logits, 1), tf.argmax(y, 1))\n",
    "accuracy = tf.reduce_mean(tf.cast(correct_pred, tf.float32)) \n",
    "                        \n",
    "init = tf.global_variables_initializer() \n",
    "\n",
    "#x_train[(1*batch_size):(1+batch_size)+batch_size-1]"
   ]
  },
  {
   "cell_type": "code",
   "execution_count": 174,
   "metadata": {},
   "outputs": [
    {
     "name": "stdout",
     "output_type": "stream",
     "text": [
      "Epoch:  0 Minibatch Loss:  3541.9287 Training acc:  0.13333334\n",
      "Epoch:  1 Minibatch Loss:  2959.593 Training acc:  0.2\n",
      "Epoch:  100 Minibatch Loss:  232.5296 Training acc:  0.13333334\n",
      "Epoch:  200 Minibatch Loss:  46.315056 Training acc:  0.4\n",
      "Epoch:  300 Minibatch Loss:  47.62943 Training acc:  0.46666667\n",
      "Epoch:  400 Minibatch Loss:  19.02382 Training acc:  0.53333336\n",
      "Epoch:  500 Minibatch Loss:  20.137306 Training acc:  0.46666667\n",
      "Epoch:  600 Minibatch Loss:  25.899374 Training acc:  0.46666667\n",
      "Epoch:  700 Minibatch Loss:  33.81042 Training acc:  0.46666667\n",
      "Epoch:  800 Minibatch Loss:  25.935343 Training acc:  0.46666667\n",
      "Epoch:  900 Minibatch Loss:  11.607657 Training acc:  0.73333335\n",
      "Epoch:  1000 Minibatch Loss:  36.567886 Training acc:  0.53333336\n",
      "Epoch:  1100 Minibatch Loss:  19.32782 Training acc:  0.46666667\n",
      "Epoch:  1200 Minibatch Loss:  11.63997 Training acc:  0.53333336\n",
      "Epoch:  1300 Minibatch Loss:  15.066047 Training acc:  0.6\n",
      "Epoch:  1400 Minibatch Loss:  20.351799 Training acc:  0.53333336\n",
      "Epoch:  1500 Minibatch Loss:  40.602505 Training acc:  0.4\n",
      "Epoch:  1600 Minibatch Loss:  21.934797 Training acc:  0.46666667\n",
      "Epoch:  1700 Minibatch Loss:  10.859948 Training acc:  0.6666667\n",
      "Epoch:  1800 Minibatch Loss:  14.790071 Training acc:  0.6\n",
      "Epoch:  1900 Minibatch Loss:  4.8561344 Training acc:  0.8\n",
      "Optimization Finished.\n"
     ]
    }
   ],
   "source": [
    "with tf.Session() as sess:\n",
    "    sess.run(init)\n",
    "    \n",
    "    for epoch in range(epochs):\n",
    "        batch_xs = x_train[(epoch*batch_size):((epoch+1)*batch_size)-1]\n",
    "        batch_ys = y_train_hot[(epoch*batch_size):((epoch+1)*batch_size)-1]\n",
    "        \n",
    "        \n",
    "        #print(epoch, batch_xs.shape)\n",
    "        sess.run(optimizer, feed_dict={X: batch_xs, y: batch_ys})\n",
    "        \n",
    "        if epoch % disp_step == 0 or epoch == 1:\n",
    "            #Calculate batch loss and accuracy\n",
    "            batch_loss, acc = sess.run([loss, accuracy], \n",
    "                                       feed_dict={X: batch_xs, y: batch_ys})\n",
    "            print('Epoch: ', epoch, 'Minibatch Loss: ', batch_loss, \n",
    "                  'Training acc: ', acc)\n",
    "    print('Optimization Finished.')\n",
    "    \n",
    "    #print('Test acc')"
   ]
  },
  {
   "cell_type": "markdown",
   "metadata": {},
   "source": [
    "#### Run session"
   ]
  },
  {
   "cell_type": "code",
   "execution_count": 175,
   "metadata": {},
   "outputs": [
    {
     "data": {
      "text/plain": [
       "'\\nsaver = tf.train.Saver()\\nsess = tf.Session()\\nsess.run(tf.global_variables_initializer())\\n\\n\\nwriter = tf.summary.FileWriter(logs_path, sess.graph)\\nmerged_summaries = tf.summary.merge_all()\\n        \\nprint(\\'Commence Training...\\')\\n\\ntotal_batch = int(x_train.shape[0] / batch_size)\\n    \\n#Run number of epochs\\nfor epoch in range(epochs):\\n    avg_loss = 0\\n        \\n    #Loop over the batchs for each epoch\\n    for i in range(batch_count):\\n        batch_xs = x_train[(i*batch_size):(i+batch_size)+batch_size-1]\\n        batch_ys = y_train_hot[(i*batch_size):(i+batch_size)+batch_size-1]\\n            \\n        _, c = sess.run([optimizer, loss], feed_dict={X: batch_xs, y: batch_ys})\\n            \\n        if i % 25 == 0:\\n            s = sess.run(merged_summaries, feed_dict={X: batch_xs, y: batch_ys})\\n            writer.add_summary(s, epoch*total_batch + i)\\n                \\n        avg_loss += c / total_batch\\n            \\n    if(epoch+1) % disp_step == 0:\\n        print(\"Epoch: \", \\'%04d\\' % (epoch+1), \"loss=\", \"{:.9f}\".format(avg_loss))\\n            \\nprint(\\'Optimization finished.\\')\\n    \\n### EVALUTATE\\ncorrect_pred = tf.equal(tf.argmax(pred, 1), tf.argmax(y, 1))\\naccuracy = tf.reduce_mean(tf.cast(correct_pred, tf.float32))\\nprint(\\'Accuracy: \\', sess.run(accuracy, feed_dict={X: x_train, y: y_train_hot}))\\n'"
      ]
     },
     "execution_count": 175,
     "metadata": {},
     "output_type": "execute_result"
    }
   ],
   "source": [
    "'''\n",
    "saver = tf.train.Saver()\n",
    "sess = tf.Session()\n",
    "sess.run(tf.global_variables_initializer())\n",
    "\n",
    "\n",
    "writer = tf.summary.FileWriter(logs_path, sess.graph)\n",
    "merged_summaries = tf.summary.merge_all()\n",
    "        \n",
    "print('Commence Training...')\n",
    "\n",
    "total_batch = int(x_train.shape[0] / batch_size)\n",
    "    \n",
    "#Run number of epochs\n",
    "for epoch in range(epochs):\n",
    "    avg_loss = 0\n",
    "        \n",
    "    #Loop over the batchs for each epoch\n",
    "    for i in range(batch_count):\n",
    "        batch_xs = x_train[(i*batch_size):(i+batch_size)+batch_size-1]\n",
    "        batch_ys = y_train_hot[(i*batch_size):(i+batch_size)+batch_size-1]\n",
    "            \n",
    "        _, c = sess.run([optimizer, loss], feed_dict={X: batch_xs, y: batch_ys})\n",
    "            \n",
    "        if i % 25 == 0:\n",
    "            s = sess.run(merged_summaries, feed_dict={X: batch_xs, y: batch_ys})\n",
    "            writer.add_summary(s, epoch*total_batch + i)\n",
    "                \n",
    "        avg_loss += c / total_batch\n",
    "            \n",
    "    if(epoch+1) % disp_step == 0:\n",
    "        print(\"Epoch: \", '%04d' % (epoch+1), \"loss=\", \"{:.9f}\".format(avg_loss))\n",
    "            \n",
    "print('Optimization finished.')\n",
    "    \n",
    "### EVALUTATE\n",
    "correct_pred = tf.equal(tf.argmax(pred, 1), tf.argmax(y, 1))\n",
    "accuracy = tf.reduce_mean(tf.cast(correct_pred, tf.float32))\n",
    "print('Accuracy: ', sess.run(accuracy, feed_dict={X: x_train, y: y_train_hot}))\n",
    "'''"
   ]
  },
  {
   "cell_type": "code",
   "execution_count": null,
   "metadata": {},
   "outputs": [],
   "source": []
  }
 ],
 "metadata": {
  "kernelspec": {
   "display_name": "Python 3",
   "language": "python",
   "name": "python3"
  },
  "language_info": {
   "codemirror_mode": {
    "name": "ipython",
    "version": 3
   },
   "file_extension": ".py",
   "mimetype": "text/x-python",
   "name": "python",
   "nbconvert_exporter": "python",
   "pygments_lexer": "ipython3",
   "version": "3.6.4"
  }
 },
 "nbformat": 4,
 "nbformat_minor": 2
}
